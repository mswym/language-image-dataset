{
 "cells": [
  {
   "cell_type": "code",
   "execution_count": null,
   "outputs": [],
   "source": [
    "import torchvision.models as models\n",
    "import scipy.io\n",
    "import torch, clip\n",
    "from UTILS.utils import *"
   ],
   "metadata": {
    "collapsed": false,
    "pycharm": {
     "name": "#%%\n"
    }
   }
  },
  {
   "cell_type": "code",
   "execution_count": null,
   "outputs": [],
   "source": [
    "device = \"cuda\" if torch.cuda.is_available() else \"cpu\"\n",
    "model, preprocess = clip.load(\"ViT-B/32\", device=device, jit=False)\n",
    "s_156 = scipy.io.loadmat('DATASETS/dataset3.mat')\n",
    "images = torch.cat([preprocess(Image.fromarray(s_156['visual_stimuli156'][0][i][0])).unsqueeze(0) for i in range(156)]).to(device)\n",
    "\n",
    "model_name = \"clip\"\n",
    "contexts   = [\"a photo of a \"]\n",
    "labels  = torch.load(path+\"DATASETS/LABELS/labels.pt\")\n",
    "super_labels, basic_labels, hierarchy = labels[\"SUPERORDINATES\"], labels[\"BASICS\"], labels[\"CLUSTERING\"]\n",
    "context = contexts[0]"
   ],
   "metadata": {
    "collapsed": false,
    "pycharm": {
     "name": "#%%\n"
    }
   }
  },
  {
   "cell_type": "markdown",
   "source": [
    "##**REPRESENTATIONS FOR FEEDFORWARD MODELS**"
   ],
   "metadata": {
    "collapsed": false,
    "pycharm": {
     "name": "#%% md\n"
    }
   }
  },
  {
   "cell_type": "code",
   "execution_count": null,
   "outputs": [],
   "source": [
    "vgg19_bn = models.vgg19_bn(pretrained=True)\n",
    "resnet152 = models.resnet18(pretrained=True)\n",
    "\n",
    "models = {\n",
    "    \"VGG19 - Batch Normalization\": vgg19_bn,\n",
    "    \"ResNet152\": resnet152\n",
    "}\n",
    "reps = None"
   ],
   "metadata": {
    "collapsed": false,
    "pycharm": {
     "name": "#%%\n"
    }
   }
  },
  {
   "cell_type": "code",
   "execution_count": null,
   "outputs": [],
   "source": [
    "for key in models:\n",
    "    print(key)\n",
    "    similarities = get_RDM(models[key], images)\n",
    "    ordered_labels = {\"animal\": [None] * 28, \"plant\": [None] * 14, \"food\": [None] * 16, \"indoor\": [None] * 22,\n",
    "                      \"outdoor\": [None] * 20, \"human body\": [None] * 24, \"human face\": [None] * 32}\n",
    "    display_img_with_ordered_labels(similarities, ordered_labels, None, True, (8, 8))\n",
    "    plt.show()"
   ],
   "metadata": {
    "collapsed": false,
    "pycharm": {
     "name": "#%%\n"
    }
   }
  },
  {
   "cell_type": "markdown",
   "source": [
    "##**REPRESENTATIONS CLIP**"
   ],
   "metadata": {
    "collapsed": false,
    "pycharm": {
     "name": "#%% md\n"
    }
   }
  },
  {
   "cell_type": "code",
   "execution_count": null,
   "outputs": [],
   "source": [
    "similarities = []\n",
    "features = torch.empty(0, 512).to(device)\n",
    "\n",
    "dataset_size = 156\n",
    "batch_size = 32\n",
    "\n",
    "with torch.no_grad():\n",
    "    features = model.encode_image(images)\n",
    "\n",
    "for i in range(features.size(0)):\n",
    "    similarities.append([])\n",
    "    for j in range(features.size(0)):\n",
    "        similarities[len(similarities) - 1].append(torch.nn.CosineSimilarity(dim=0)(features[i], features[j]).item())\n",
    "ordered_labels = {\"animal\": [None] * 28, \"plant\": [None] * 14, \"food\": [None] * 16, \"indoor\": [None] * 22,\n",
    "                  \"outdoor\": [None] * 20, \"human body\": [None] * 24, \"human face\": [None] * 32}\n",
    "\n",
    "display_img_with_ordered_labels(similarities, ordered_labels, None, True, (8, 8))"
   ],
   "metadata": {
    "collapsed": false,
    "pycharm": {
     "name": "#%%\n"
    }
   }
  },
  {
   "cell_type": "markdown",
   "source": [
    "##**REPRESENTATION OF WORD-SUPERIMPOSED IMAGES ON CLIP**"
   ],
   "metadata": {
    "collapsed": false,
    "pycharm": {
     "name": "#%% md\n"
    }
   }
  },
  {
   "cell_type": "code",
   "execution_count": null,
   "outputs": [],
   "source": [
    "#word = 'electronic'\n",
    "#word = 'vehicle'\n",
    "#word = 'outdoor'\n",
    "#word = 'indoor'\n",
    "#word = 'accessory'\n",
    "#word = 'sports'\n",
    "#word = 'kitchen'\n",
    "#word = 'food'\n",
    "#word = 'furniture'\n",
    "#word = 'appliance'\n",
    "word = 'animal'\n",
    "#word = 'person'\n",
    "\n",
    "images = []\n",
    "for i in range(len(s_156['visual_stimuli156'][0])):\n",
    "    images.append(s_156['visual_stimuli156'][0][i][0])\n",
    "\n",
    "images = get_stimulis(0, 156, preprocess, word=word).to(device)\n",
    "similarities = []\n",
    "features = torch.empty(0, 512).to(device)\n",
    "\n",
    "\n",
    "with torch.no_grad():\n",
    "    features = model.encode_image(images)\n",
    "\n",
    "    print(features.size())\n",
    "\n",
    "for i in range(features.size(0)):\n",
    "    similarities.append([])\n",
    "    for j in range(features.size(0)):\n",
    "        similarities[len(similarities) - 1].append(torch.nn.CosineSimilarity(dim=0)(features[i], features[j]).item())\n",
    "ordered_labels = {\"animal\": [None] * 28, \"plant\": [None] * 14, \"food\": [None] * 16, \"indoor\": [None] * 22,\n",
    "                  \"outdoor\": [None] * 20, \"human body\": [None] * 24, \"human face\": [None] * 32}\n",
    "display_img_with_ordered_labels(similarities, ordered_labels, None, True, (8, 8))"
   ],
   "metadata": {
    "collapsed": false,
    "pycharm": {
     "name": "#%%\n"
    }
   }
  }
 ],
 "metadata": {
  "kernelspec": {
   "display_name": "Python 3",
   "language": "python",
   "name": "python3"
  },
  "language_info": {
   "codemirror_mode": {
    "name": "ipython",
    "version": 2
   },
   "file_extension": ".py",
   "mimetype": "text/x-python",
   "name": "python",
   "nbconvert_exporter": "python",
   "pygments_lexer": "ipython2",
   "version": "2.7.6"
  }
 },
 "nbformat": 4,
 "nbformat_minor": 0
}